{
 "cells": [
  {
   "cell_type": "code",
   "execution_count": 1,
   "id": "c98041cb",
   "metadata": {
    "_cell_guid": "b1076dfc-b9ad-4769-8c92-a6c4dae69d19",
    "_uuid": "8f2839f25d086af736a60e9eeb907d3b93b6e0e5",
    "execution": {
     "iopub.execute_input": "2022-12-30T19:07:46.870622Z",
     "iopub.status.busy": "2022-12-30T19:07:46.870060Z",
     "iopub.status.idle": "2022-12-30T19:07:46.888004Z",
     "shell.execute_reply": "2022-12-30T19:07:46.886760Z"
    },
    "papermill": {
     "duration": 0.030039,
     "end_time": "2022-12-30T19:07:46.891425",
     "exception": false,
     "start_time": "2022-12-30T19:07:46.861386",
     "status": "completed"
    },
    "tags": []
   },
   "outputs": [
    {
     "name": "stdout",
     "output_type": "stream",
     "text": [
      "/kaggle/input/house-price-prediction-seattle/train.csv\n",
      "/kaggle/input/house-price-prediction-seattle/test.csv\n"
     ]
    }
   ],
   "source": [
    "# This Python 3 environment comes with many helpful analytics libraries installed\n",
    "# It is defined by the kaggle/python Docker image: https://github.com/kaggle/docker-python\n",
    "# For example, here's several helpful packages to load\n",
    "\n",
    "import numpy as np # linear algebra\n",
    "import pandas as pd # data processing, CSV file I/O (e.g. pd.read_csv)\n",
    "\n",
    "# Input data files are available in the read-only \"../input/\" directory\n",
    "# For example, running this (by clicking run or pressing Shift+Enter) will list all files under the input directory\n",
    "\n",
    "import os\n",
    "for dirname, _, filenames in os.walk('/kaggle/input'):\n",
    "    for filename in filenames:\n",
    "        print(os.path.join(dirname, filename))\n",
    "\n",
    "# You can write up to 20GB to the current directory (/kaggle/working/) that gets preserved as output when you create a version using \"Save & Run All\" \n",
    "# You can also write temporary files to /kaggle/temp/, but they won't be saved outside of the current session"
   ]
  },
  {
   "cell_type": "markdown",
   "id": "a11c0de9",
   "metadata": {
    "papermill": {
     "duration": 0.005373,
     "end_time": "2022-12-30T19:07:46.903289",
     "exception": false,
     "start_time": "2022-12-30T19:07:46.897916",
     "status": "completed"
    },
    "tags": []
   },
   "source": [
    "Open .csv and remove entries without lot sizes."
   ]
  },
  {
   "cell_type": "code",
   "execution_count": 2,
   "id": "278a6571",
   "metadata": {
    "execution": {
     "iopub.execute_input": "2022-12-30T19:07:46.916541Z",
     "iopub.status.busy": "2022-12-30T19:07:46.916099Z",
     "iopub.status.idle": "2022-12-30T19:07:46.947714Z",
     "shell.execute_reply": "2022-12-30T19:07:46.946716Z"
    },
    "papermill": {
     "duration": 0.04179,
     "end_time": "2022-12-30T19:07:46.950652",
     "exception": false,
     "start_time": "2022-12-30T19:07:46.908862",
     "status": "completed"
    },
    "tags": []
   },
   "outputs": [],
   "source": [
    "train_df = pd.read_csv(\"/kaggle/input/house-price-prediction-seattle/train.csv\")\n",
    "clean_train_df = train_df[(train_df[\"lot_size_units\"] == \"sqft\") | (train_df[\"lot_size_units\"] == \"acre\")]"
   ]
  },
  {
   "cell_type": "markdown",
   "id": "7cb020ae",
   "metadata": {
    "papermill": {
     "duration": 0.005376,
     "end_time": "2022-12-30T19:07:46.961945",
     "exception": false,
     "start_time": "2022-12-30T19:07:46.956569",
     "status": "completed"
    },
    "tags": []
   },
   "source": [
    "Convert all lot_size units to sqft"
   ]
  },
  {
   "cell_type": "code",
   "execution_count": 3,
   "id": "dab267f6",
   "metadata": {
    "execution": {
     "iopub.execute_input": "2022-12-30T19:07:46.975854Z",
     "iopub.status.busy": "2022-12-30T19:07:46.975427Z",
     "iopub.status.idle": "2022-12-30T19:07:46.988556Z",
     "shell.execute_reply": "2022-12-30T19:07:46.987424Z"
    },
    "papermill": {
     "duration": 0.023242,
     "end_time": "2022-12-30T19:07:46.990901",
     "exception": false,
     "start_time": "2022-12-30T19:07:46.967659",
     "status": "completed"
    },
    "tags": []
   },
   "outputs": [],
   "source": [
    "lot_sizes = np.where(clean_train_df[\"lot_size_units\"] == \"acre\", clean_train_df[\"lot_size\"]*43560, clean_train_df[\"lot_size\"])"
   ]
  },
  {
   "cell_type": "markdown",
   "id": "ccfa8fb0",
   "metadata": {
    "papermill": {
     "duration": 0.00514,
     "end_time": "2022-12-30T19:07:47.001635",
     "exception": false,
     "start_time": "2022-12-30T19:07:46.996495",
     "status": "completed"
    },
    "tags": []
   },
   "source": [
    "Extract features and targets into X and y"
   ]
  },
  {
   "cell_type": "code",
   "execution_count": 4,
   "id": "e6569e59",
   "metadata": {
    "execution": {
     "iopub.execute_input": "2022-12-30T19:07:47.014351Z",
     "iopub.status.busy": "2022-12-30T19:07:47.013912Z",
     "iopub.status.idle": "2022-12-30T19:07:47.019963Z",
     "shell.execute_reply": "2022-12-30T19:07:47.019096Z"
    },
    "papermill": {
     "duration": 0.014974,
     "end_time": "2022-12-30T19:07:47.022024",
     "exception": false,
     "start_time": "2022-12-30T19:07:47.007050",
     "status": "completed"
    },
    "tags": []
   },
   "outputs": [],
   "source": [
    "X = np.column_stack(\n",
    "    [\n",
    "        lot_sizes, \n",
    "        clean_train_df[\"beds\"], \n",
    "        clean_train_df[\"baths\"], \n",
    "        clean_train_df[\"size\"]\n",
    "    ]\n",
    ")\n",
    "y = clean_train_df[\"price\"]"
   ]
  },
  {
   "cell_type": "markdown",
   "id": "23716898",
   "metadata": {
    "papermill": {
     "duration": 0.006841,
     "end_time": "2022-12-30T19:07:47.034447",
     "exception": false,
     "start_time": "2022-12-30T19:07:47.027606",
     "status": "completed"
    },
    "tags": []
   },
   "source": [
    "Using models based on guidance here: https://scikit-learn.org/stable/tutorial/machine_learning_map/index.html"
   ]
  },
  {
   "cell_type": "markdown",
   "id": "2683a07f",
   "metadata": {
    "papermill": {
     "duration": 0.005215,
     "end_time": "2022-12-30T19:07:47.045484",
     "exception": false,
     "start_time": "2022-12-30T19:07:47.040269",
     "status": "completed"
    },
    "tags": []
   },
   "source": [
    "Trying Lasso, changing alpha has no effect"
   ]
  },
  {
   "cell_type": "code",
   "execution_count": 5,
   "id": "2767eb7e",
   "metadata": {
    "execution": {
     "iopub.execute_input": "2022-12-30T19:07:47.058461Z",
     "iopub.status.busy": "2022-12-30T19:07:47.058019Z",
     "iopub.status.idle": "2022-12-30T19:07:48.291081Z",
     "shell.execute_reply": "2022-12-30T19:07:48.290163Z"
    },
    "papermill": {
     "duration": 1.242305,
     "end_time": "2022-12-30T19:07:48.293572",
     "exception": false,
     "start_time": "2022-12-30T19:07:47.051267",
     "status": "completed"
    },
    "tags": []
   },
   "outputs": [],
   "source": [
    "from sklearn.linear_model import Lasso\n",
    "from sklearn.metrics import mean_squared_error\n",
    "lasso_model = Lasso(alpha=0.01)\n",
    "lasso_model.fit(X,y)\n",
    "\n",
    "lasso_predicted = lasso_model.predict(X)\n",
    "lasso_metrics = mean_squared_error(y,lasso_predicted), lasso_model.score(X,y)"
   ]
  },
  {
   "cell_type": "markdown",
   "id": "9a8e57bb",
   "metadata": {
    "papermill": {
     "duration": 0.005968,
     "end_time": "2022-12-30T19:07:48.309097",
     "exception": false,
     "start_time": "2022-12-30T19:07:48.303129",
     "status": "completed"
    },
    "tags": []
   },
   "source": [
    "Trying with ElasticNet, changing alpha has no effect"
   ]
  },
  {
   "cell_type": "code",
   "execution_count": 6,
   "id": "e4c993ed",
   "metadata": {
    "execution": {
     "iopub.execute_input": "2022-12-30T19:07:48.322443Z",
     "iopub.status.busy": "2022-12-30T19:07:48.321906Z",
     "iopub.status.idle": "2022-12-30T19:07:48.330741Z",
     "shell.execute_reply": "2022-12-30T19:07:48.329923Z"
    },
    "papermill": {
     "duration": 0.017665,
     "end_time": "2022-12-30T19:07:48.332739",
     "exception": false,
     "start_time": "2022-12-30T19:07:48.315074",
     "status": "completed"
    },
    "tags": []
   },
   "outputs": [],
   "source": [
    "from sklearn.linear_model import ElasticNet\n",
    "elasticnet_model = ElasticNet(alpha=0.01)\n",
    "elasticnet_model.fit(X,y)\n",
    "\n",
    "elasticnet_predicted = elasticnet_model.predict(X)\n",
    "elasticnet_metrics = mean_squared_error(y,elasticnet_predicted), elasticnet_model.score(X,y)"
   ]
  },
  {
   "cell_type": "markdown",
   "id": "43a39497",
   "metadata": {
    "papermill": {
     "duration": 0.005172,
     "end_time": "2022-12-30T19:07:48.343331",
     "exception": false,
     "start_time": "2022-12-30T19:07:48.338159",
     "status": "completed"
    },
    "tags": []
   },
   "source": [
    "Trying SVR\n",
    "- kernel=\"linear\" performs about the same as previous\n",
    "- kernel=\"poly\"\n",
    "    - degree=3 performs notably worse than others\n",
    "    - degree=2 also performs poorly, poly is not the right direction\n",
    "- kernel=\"rbf\" also performs poorly, doesn't seem right"
   ]
  },
  {
   "cell_type": "code",
   "execution_count": 7,
   "id": "8e09121c",
   "metadata": {
    "execution": {
     "iopub.execute_input": "2022-12-30T19:07:48.356288Z",
     "iopub.status.busy": "2022-12-30T19:07:48.355536Z",
     "iopub.status.idle": "2022-12-30T19:08:10.994669Z",
     "shell.execute_reply": "2022-12-30T19:08:10.993481Z"
    },
    "papermill": {
     "duration": 22.648969,
     "end_time": "2022-12-30T19:08:10.997745",
     "exception": false,
     "start_time": "2022-12-30T19:07:48.348776",
     "status": "completed"
    },
    "tags": []
   },
   "outputs": [],
   "source": [
    "from sklearn.svm import SVR\n",
    "svr_linear_model = SVR(kernel=\"linear\")\n",
    "svr_linear_model.fit(X,y)\n",
    "\n",
    "svr_linear_predicted = svr_linear_model.predict(X)\n",
    "\n",
    "svr_metrics = mean_squared_error(y,svr_linear_predicted), svr_linear_model.score(X,y)"
   ]
  },
  {
   "cell_type": "markdown",
   "id": "16451417",
   "metadata": {
    "papermill": {
     "duration": 0.005157,
     "end_time": "2022-12-30T19:08:11.008627",
     "exception": false,
     "start_time": "2022-12-30T19:08:11.003470",
     "status": "completed"
    },
    "tags": []
   },
   "source": [
    "Comparing performance across all three model types:\n",
    "- Lasso + ElasticNet are almost identical\n",
    "- SVR has higher MSE and lower coef. of determination\n",
    "\n",
    "Lasso and ElasticNet are the way to go."
   ]
  },
  {
   "cell_type": "code",
   "execution_count": 8,
   "id": "1b2addd2",
   "metadata": {
    "execution": {
     "iopub.execute_input": "2022-12-30T19:08:11.021521Z",
     "iopub.status.busy": "2022-12-30T19:08:11.021069Z",
     "iopub.status.idle": "2022-12-30T19:08:11.030192Z",
     "shell.execute_reply": "2022-12-30T19:08:11.029076Z"
    },
    "papermill": {
     "duration": 0.018384,
     "end_time": "2022-12-30T19:08:11.032640",
     "exception": false,
     "start_time": "2022-12-30T19:08:11.014256",
     "status": "completed"
    },
    "tags": []
   },
   "outputs": [
    {
     "data": {
      "text/plain": [
       "((840690646928.8298, 0.17201239445698346),\n",
       " (840691649590.9625, 0.1720114069453209),\n",
       " (854844072849.7957, 0.15807283026492092))"
      ]
     },
     "execution_count": 8,
     "metadata": {},
     "output_type": "execute_result"
    }
   ],
   "source": [
    "lasso_metrics, elasticnet_metrics, svr_metrics"
   ]
  },
  {
   "cell_type": "markdown",
   "id": "7bb3deec",
   "metadata": {
    "papermill": {
     "duration": 0.005339,
     "end_time": "2022-12-30T19:08:11.043453",
     "exception": false,
     "start_time": "2022-12-30T19:08:11.038114",
     "status": "completed"
    },
    "tags": []
   },
   "source": [
    "Going to try taking np.log() of lot size feature to see if it helps with linear model: SUCCESS! - slightly better performance"
   ]
  },
  {
   "cell_type": "code",
   "execution_count": 9,
   "id": "4718808c",
   "metadata": {
    "execution": {
     "iopub.execute_input": "2022-12-30T19:08:11.056963Z",
     "iopub.status.busy": "2022-12-30T19:08:11.056307Z",
     "iopub.status.idle": "2022-12-30T19:08:11.071695Z",
     "shell.execute_reply": "2022-12-30T19:08:11.070404Z"
    },
    "papermill": {
     "duration": 0.025144,
     "end_time": "2022-12-30T19:08:11.074199",
     "exception": false,
     "start_time": "2022-12-30T19:08:11.049055",
     "status": "completed"
    },
    "tags": []
   },
   "outputs": [
    {
     "data": {
      "text/plain": [
       "((503396939.05722076, 0.17252567531003327),\n",
       " (503396944.91512984, 0.17252566568091365))"
      ]
     },
     "execution_count": 9,
     "metadata": {},
     "output_type": "execute_result"
    }
   ],
   "source": [
    "X = np.column_stack(\n",
    "    [\n",
    "        np.log(lot_sizes), \n",
    "        clean_train_df[\"beds\"], \n",
    "        clean_train_df[\"baths\"], \n",
    "        clean_train_df[\"size\"]\n",
    "    ]\n",
    ")\n",
    "\n",
    "lasso_model = Lasso(alpha=0.001)\n",
    "lasso_model.fit(X,y)\n",
    "lasso_predicted = lasso_model.predict(X)\n",
    "lasso_metrics = mean_squared_error(y,lasso_predicted)/1669, lasso_model.score(X,y)\n",
    "\n",
    "elasticnet_model = ElasticNet(alpha=0.001)\n",
    "elasticnet_model.fit(X,y)\n",
    "elasticnet_predicted = elasticnet_model.predict(X)\n",
    "elasticnet_metrics = mean_squared_error(y,elasticnet_predicted)/1669, elasticnet_model.score(X,y)\n",
    "\n",
    "lasso_metrics, elasticnet_metrics"
   ]
  },
  {
   "cell_type": "markdown",
   "id": "47df0cf4",
   "metadata": {
    "papermill": {
     "duration": 0.005414,
     "end_time": "2022-12-30T19:08:11.085341",
     "exception": false,
     "start_time": "2022-12-30T19:08:11.079927",
     "status": "completed"
    },
    "tags": []
   },
   "source": [
    "Now I will use test data to see if the models are overfit\n",
    "- if anything, they are underfit - I'm going to decrease alpha more for both"
   ]
  },
  {
   "cell_type": "code",
   "execution_count": 10,
   "id": "defb6f79",
   "metadata": {
    "execution": {
     "iopub.execute_input": "2022-12-30T19:08:11.098735Z",
     "iopub.status.busy": "2022-12-30T19:08:11.098087Z",
     "iopub.status.idle": "2022-12-30T19:08:11.123455Z",
     "shell.execute_reply": "2022-12-30T19:08:11.122106Z"
    },
    "papermill": {
     "duration": 0.035395,
     "end_time": "2022-12-30T19:08:11.126341",
     "exception": false,
     "start_time": "2022-12-30T19:08:11.090946",
     "status": "completed"
    },
    "tags": []
   },
   "outputs": [
    {
     "data": {
      "text/plain": [
       "((451819988.76272845, 0.4940302650416619),\n",
       " (451823191.57973474, 0.49402667837327163))"
      ]
     },
     "execution_count": 10,
     "metadata": {},
     "output_type": "execute_result"
    }
   ],
   "source": [
    "test_df = pd.read_csv(\"/kaggle/input/house-price-prediction-seattle/test.csv\")\n",
    "clean_test_df = test_df[(test_df[\"lot_size_units\"] == \"sqft\") | (test_df[\"lot_size_units\"] == \"acre\")]\n",
    "test_lot_sizes = np.where(clean_test_df[\"lot_size_units\"] == \"acre\", clean_test_df[\"lot_size\"]*43560, clean_test_df[\"lot_size\"])\n",
    "\n",
    "test_X = np.column_stack(\n",
    "    [\n",
    "        np.log(test_lot_sizes), \n",
    "        clean_test_df[\"beds\"], \n",
    "        clean_test_df[\"baths\"], \n",
    "        clean_test_df[\"size\"]\n",
    "    ]\n",
    ")\n",
    "\n",
    "test_y = clean_test_df[\"price\"]\n",
    "\n",
    "lasso_test_predicted = lasso_model.predict(test_X)\n",
    "lasso_test_metrics = mean_squared_error(test_y,lasso_test_predicted)/428, lasso_model.score(test_X,test_y)\n",
    "\n",
    "elasticnet_test_predicted = elasticnet_model.predict(test_X)\n",
    "elasticnet_test_metrics = mean_squared_error(test_y,elasticnet_test_predicted)/428, elasticnet_model.score(test_X,test_y)\n",
    "\n",
    "lasso_test_metrics, elasticnet_test_metrics"
   ]
  },
  {
   "cell_type": "markdown",
   "id": "5791d78c",
   "metadata": {
    "papermill": {
     "duration": 0.005706,
     "end_time": "2022-12-30T19:08:11.138058",
     "exception": false,
     "start_time": "2022-12-30T19:08:11.132352",
     "status": "completed"
    },
    "tags": []
   },
   "source": [
    "Somewhat happy with results, so:\n",
    "1. I will get the coefficients for both models\n",
    "2. I will calculate the outputs separately\n",
    "3. I will average the outputs for a final answer"
   ]
  },
  {
   "cell_type": "code",
   "execution_count": 11,
   "id": "d4d83850",
   "metadata": {
    "execution": {
     "iopub.execute_input": "2022-12-30T19:08:11.151760Z",
     "iopub.status.busy": "2022-12-30T19:08:11.151096Z",
     "iopub.status.idle": "2022-12-30T19:08:11.158038Z",
     "shell.execute_reply": "2022-12-30T19:08:11.157211Z"
    },
    "papermill": {
     "duration": 0.016175,
     "end_time": "2022-12-30T19:08:11.160111",
     "exception": false,
     "start_time": "2022-12-30T19:08:11.143936",
     "status": "completed"
    },
    "tags": []
   },
   "outputs": [
    {
     "data": {
      "text/plain": [
       "(array([ -24177.07674399, -125209.39370136,   61891.57328726,\n",
       "            520.31715415]),\n",
       " 506827.50826334255)"
      ]
     },
     "execution_count": 11,
     "metadata": {},
     "output_type": "execute_result"
    }
   ],
   "source": [
    "elasticnet_model.coef_, elasticnet_model.intercept_"
   ]
  },
  {
   "cell_type": "code",
   "execution_count": 12,
   "id": "d947065b",
   "metadata": {
    "execution": {
     "iopub.execute_input": "2022-12-30T19:08:11.174587Z",
     "iopub.status.busy": "2022-12-30T19:08:11.173924Z",
     "iopub.status.idle": "2022-12-30T19:08:11.180908Z",
     "shell.execute_reply": "2022-12-30T19:08:11.179977Z"
    },
    "papermill": {
     "duration": 0.016873,
     "end_time": "2022-12-30T19:08:11.183124",
     "exception": false,
     "start_time": "2022-12-30T19:08:11.166251",
     "status": "completed"
    },
    "tags": []
   },
   "outputs": [
    {
     "data": {
      "text/plain": [
       "(array([ -24183.56640392, -125325.16519638,   61970.75214076,\n",
       "            520.37275021]),\n",
       " 506956.92602806364)"
      ]
     },
     "execution_count": 12,
     "metadata": {},
     "output_type": "execute_result"
    }
   ],
   "source": [
    "lasso_model.coef_, lasso_model.intercept_"
   ]
  },
  {
   "cell_type": "markdown",
   "id": "42d4f3fa",
   "metadata": {
    "papermill": {
     "duration": 0.005805,
     "end_time": "2022-12-30T19:08:11.194893",
     "exception": false,
     "start_time": "2022-12-30T19:08:11.189088",
     "status": "completed"
    },
    "tags": []
   },
   "source": [
    "Based on the coefficients, lot size and number of beds are negatively weighted, which seems wrong. This suggests that these four features don't accurately capture the data. I think zip code might be an important factor. Maybe I could figure out the ranking of the dataset's zip codes in terms of \"niceness\" and map them to an order for the model to work with."
   ]
  }
 ],
 "metadata": {
  "kernelspec": {
   "display_name": "Python 3",
   "language": "python",
   "name": "python3"
  },
  "language_info": {
   "codemirror_mode": {
    "name": "ipython",
    "version": 3
   },
   "file_extension": ".py",
   "mimetype": "text/x-python",
   "name": "python",
   "nbconvert_exporter": "python",
   "pygments_lexer": "ipython3",
   "version": "3.7.12"
  },
  "papermill": {
   "default_parameters": {},
   "duration": 33.663074,
   "end_time": "2022-12-30T19:08:11.922922",
   "environment_variables": {},
   "exception": null,
   "input_path": "__notebook__.ipynb",
   "output_path": "__notebook__.ipynb",
   "parameters": {},
   "start_time": "2022-12-30T19:07:38.259848",
   "version": "2.3.4"
  }
 },
 "nbformat": 4,
 "nbformat_minor": 5
}
